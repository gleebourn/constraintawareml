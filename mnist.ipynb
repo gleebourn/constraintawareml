{
 "cells": [
  {
   "cell_type": "code",
   "execution_count": null,
   "id": "beebdff3",
   "metadata": {},
   "outputs": [],
   "source": [
    "from  tensorflow.keras.datasets import mnist"
   ]
  },
  {
   "cell_type": "code",
   "execution_count": null,
   "id": "ea60a1a7",
   "metadata": {},
   "outputs": [],
   "source": [
    "from numpy import float32,reshape\n",
    "d=mnist.load_data()"
   ]
  },
  {
   "cell_type": "code",
   "execution_count": null,
   "id": "95b4500d",
   "metadata": {},
   "outputs": [],
   "source": [
    "\n",
    "\n",
    "X,y,X_test,y_test=d[0][0].astype(float32),(d[0][1]==0).astype(float32),d[1][0].astype(float32),(d[1][1]==0).astype(float32)\n",
    "\n",
    "X=X.reshape((X.shape[0],X.shape[1]*X.shape[2]))\n",
    "X_test=X_test.reshape((X_test.shape[0],X_test.shape[1]*X_test.shape[2]))\n",
    "print(X.shape)\n",
    "print(y.shape)"
   ]
  },
  {
   "cell_type": "code",
   "execution_count": null,
   "id": "31a1e774",
   "metadata": {},
   "outputs": [],
   "source": [
    "from cal.jaxn import bin_optimiser,mk_nlp_infer,mk_nlp_init_params\n",
    "'''hlp=bin_optimiser(X.shape[1],beta=.7,implementation=mk_nlp_infer(),\n",
    "                  init_params=mk_nlp_init_params())\n",
    "hlp.bench(X_test,y_test)\n",
    "#hlp.run_epochs(X,y,X_test,y_test,batch_size=512,n_epochs=800)\n",
    "#hlp.run_epochs(X,y,X_test,y_test,batch_size=256,n_epochs=400)\n",
    "#hlp.run_epochs(X,y,X_test,y_test,batch_size=128,n_epochs=200)\n",
    "#hlp.run_epochs(X,y,X_test,y_test,batch_size=64,n_epochs=100)\n",
    "hlp.run_epochs(X,y,X_test,y_test,batch_size=32,n_epochs=50)\n",
    "hlp.run_epochs(X,y,X_test,y_test,batch_size=16,n_epochs=25)'''"
   ]
  },
  {
   "cell_type": "code",
   "execution_count": null,
   "id": "bf7f8708",
   "metadata": {},
   "outputs": [],
   "source": [
    "layer_dims=[512,512]\n",
    "hlp_=bin_optimiser(X.shape[1],beta=1.4,lr=.001,\n",
    "                   implementation=mk_nlp_infer(layer_dims=layer_dims),\n",
    "                  init_params=mk_nlp_init_params(layer_dims=layer_dims))\n",
    "hlp_.bench(X_test,y_test)\n",
    "#hlp.run_epochs(X,y,X_test,y_test,batch_size=512,n_epochs=800)\n",
    "#hlp.run_epochs(X,y,X_test,y_test,batch_size=256,n_epochs=400)\n",
    "#hlp.run_epochs(X,y,X_test,y_test,batch_size=128,n_epochs=200)\n",
    "#hlp.run_epochs(X,y,X_test,y_test,batch_size=64,n_epochs=100)\n",
    "hlp_.run_epochs(X,y,X_test,y_test,batch_size=32,n_epochs=50)\n",
    "hlp_.run_epochs(X,y,X_test,y_test,batch_size=16,n_epochs=25)"
   ]
  },
  {
   "cell_type": "code",
   "execution_count": null,
   "id": "5d06d81b",
   "metadata": {},
   "outputs": [],
   "source": [
    "hlp_.lr=.0001\n",
    "hlp_.run_epochs(X,y,X_test,y_test,batch_size=16,n_epochs=100)"
   ]
  },
  {
   "cell_type": "code",
   "execution_count": null,
   "id": "35c75213",
   "metadata": {},
   "outputs": [],
   "source": [
    "hlp_.nu=1000\n",
    "hlp_.run_epochs(X,y,X_test,y_test,batch_size=16,n_epochs=100)"
   ]
  },
  {
   "cell_type": "code",
   "execution_count": null,
   "id": "d878e82c",
   "metadata": {},
   "outputs": [],
   "source": []
  }
 ],
 "metadata": {
  "kernelspec": {
   "display_name": "Gleeb",
   "language": "python",
   "name": "gleeb"
  },
  "language_info": {
   "codemirror_mode": {
    "name": "ipython",
    "version": 3
   },
   "file_extension": ".py",
   "mimetype": "text/x-python",
   "name": "python",
   "nbconvert_exporter": "python",
   "pygments_lexer": "ipython3",
   "version": "3.12.3"
  }
 },
 "nbformat": 4,
 "nbformat_minor": 5
}
