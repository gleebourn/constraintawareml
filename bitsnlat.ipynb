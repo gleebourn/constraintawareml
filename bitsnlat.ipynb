{
 "cells": [
  {
   "cell_type": "code",
   "execution_count": 1,
   "id": "5e4dd345",
   "metadata": {},
   "outputs": [],
   "source": [
    "#%matplotlib notebook\n",
    "\n",
    "from numpy import sort as srt,cov,bitwise_or,array,corrcoef\n",
    "\n",
    "\n",
    "from sklearn.ensemble import RandomForestRegressor\n",
    "max_depth=10\n",
    "\n",
    "from seaborn import pairplot\n",
    "\n",
    "\n",
    "\n"
   ]
  },
  {
   "cell_type": "markdown",
   "id": "7a38309e",
   "metadata": {},
   "source": [
    "# Random scores and their losses for binary classification\n",
    "- Work with randomly distributed feature and target data $(x,y)$ taking values in $\\in\\mathcal X\\times\\mathcal Y$, want to be able to theoretically justify a prediction $\\hat y$ we make for $y$\n",
    "- Classification is the case where $\\mathcal Y$ is a finite set $\\#\\mathcal Y=N_{\\texttt{lab}}<\\infty$ of possible target label values - statistics about such models take discrete values but the random setting means that objectives can be related in a natural way to continuous valued functions"
   ]
  },
  {
   "cell_type": "markdown",
   "id": "01a52d07",
   "metadata": {},
   "source": [
    "### Possible scores for a single prediction\n",
    "- Feature and target data $(x,y)$ taking values in $\\mathcal X\\times\\mathcal Y$, want to be able to theoretically justify a prediction $\\hat y$ for $y$\n",
    "- Generallity allow predictions to depend on varying costs of misclassifications\n",
    "- To compute some statistic $c$ about a classification a user first has to fix some function of the possible prediction and outcomes $(\\hat y,y)\\in\\mathcal Y^2$\n",
    "- For classification any such function can be represented by its values on the $N^2$ possible outcomes so that $c=C_s(\\hat y,y)$ where $s$ is an RV taking values in a finite dimensional space of parameters $\\Sigma$\n",
    "- Assuming a misclassification is always worse than a correct classification, we can rescale by eg subtracting any profits that would be gained from a correct prediction and restrict to an $N^2-N$ dimensional family of misclassification costs\n",
    "- For binary classification $N=2$ this means that up to a rescaling there are only two degrees of freedom for possible prediction-outcome pairs and the random statistic can be written\n",
    "$$\n",
    "c=C_\\sigma(\\hat y,y)\n",
    "$$\n",
    "where $\\sigma_-=C_\\sigma(+,-)$ and $\\sigma_+=C_\\sigma(-,+)$ are the costs of a false positive and false positive respectively\n",
    "- For fixed sampled value of $\\sigma$ can write down a Bayes rule in terms of the marginals\n",
    "$$\n",
    "y^*(x',\\sigma)=\\begin{cases}+\\text{ if }\\rho(x')=\\frac{\\mathbb P(+|x=x')}{\\mathbb P(-|x=x')}>\\frac{\\sigma_+}{\\sigma_-},\\\\-\\text{ otherwise}\\end{cases}\n",
    "$$\n",
    "- This means that for a fixed $\\kappa=\\frac{\\sigma_+}{\\sigma_-}$ the optimal solution just checks whether the relative likelihood is greater than $\\kappa$"
   ]
  },
  {
   "cell_type": "markdown",
   "id": "fba8df2e",
   "metadata": {},
   "source": [
    "# First experiments\n",
    "First dataset to work with is cybersecurity: UNSW-NB15"
   ]
  },
  {
   "cell_type": "code",
   "execution_count": 2,
   "id": "3294abd6",
   "metadata": {},
   "outputs": [],
   "source": [
    "from cal.dl import unsw\n",
    "#data_unscaled=unsw(lab_cat=True,rescale=False)\n",
    "data_rescaled=unsw(lab_cat=True,rescale=True)"
   ]
  },
  {
   "cell_type": "markdown",
   "id": "3f98dd5b",
   "metadata": {},
   "source": [
    "- Depending on experimental procedure, need to split data etc, here: train-test split"
   ]
  },
  {
   "cell_type": "code",
   "execution_count": 3,
   "id": "48d7fe61",
   "metadata": {},
   "outputs": [],
   "source": [
    "(x_train,all_classes_train),(x_test,all_classes_test),(df_train,df_test),sc=data_rescaled"
   ]
  },
  {
   "cell_type": "markdown",
   "id": "c8ae9d53",
   "metadata": {},
   "source": [
    "\n",
    "- First consider boring case where $\\sigma$ is constant\n",
    "- Rescaling $C$ by a constant doesn't change problem, can parameterise by a single number eg common choice $\\beta^2=\\frac{\\sigma_-}{\\sigma_+}$ or similar\n",
    "- Can write expected cost for fixed feature $x=x'$ and prediction $\\hat y=y'$ which we wish to minimise in expectation\n",
    "$$\n",
    "\\mathbb E(C(y,y')|x=x')=\\sigma_{-y'}\\mathbb P(y=-y'|x=x')\n",
    "$$"
   ]
  },
  {
   "cell_type": "markdown",
   "id": "26356b1d",
   "metadata": {},
   "source": [
    "This has multiple classes, focus on one class for now:"
   ]
  },
  {
   "cell_type": "code",
   "execution_count": 4,
   "id": "99981e47",
   "metadata": {},
   "outputs": [],
   "source": [
    "y_train,y_test=all_classes_train=='Generic',all_classes_test=='Generic'"
   ]
  },
  {
   "cell_type": "code",
   "execution_count": 5,
   "id": "4c369a94",
   "metadata": {},
   "outputs": [],
   "source": [
    "from cal.jal import shuffle_batched\n",
    "from flax.nnx import relu#,Module\n",
    "from flax.linen import Module,Dense\n",
    "#from sklearn.ensemble import RandomForestRegressor\n",
    "from typing import Sequence,Callable\n",
    "from optax import adam,apply_updates\n",
    "from optax.losses import sigmoid_binary_cross_entropy\n",
    "from jax import grad,jit\n",
    "from jax.numpy import array,log,argsort,cumsum,flip,argmin,argmax\n",
    "from jax.lax import scan\n",
    "from jax.tree import structure\n",
    "from jax.nn import sigmoid\n",
    "\n",
    "def inverse_sigmoid(probability): #sigmoid maps between probs and log rel likelihoods, want inverse\n",
    "  return log(probability/(1-probability))\n",
    "  "
   ]
  },
  {
   "cell_type": "markdown",
   "id": "7f84526f",
   "metadata": {},
   "source": [
    "### BCE\n",
    "- Write $(\\Omega,\\mathbb P,\\sigma)$ for underlying random system\n",
    "- Let $x$ and $y$ be RVs taking values in $\\mathcal X$ and $\\mathcal Y$, which we formally treat as maps from $\\Omega$:\n",
    "$$\n",
    "\\Omega\\xrightarrow{x\\times y}\\mathcal X\\times\\mathcal Y\n",
    "$$\n",
    "- Interested in dependence of $y$ upon $x$\n",
    "- Intuitively, if $y$ is in large part dependent upon the value of $x$, then there exists a model $\\hat y(x)$ such that $\\hat y\\approx y$ in an appropriate sense\n",
    "- If the user has access to everything is possible to represent $y$ as a random variable $z:\\Omega\\times\\mathcal X\\rightarrow\\mathcal Y$ trivially by letting $z(\\omega,x')=y(\\omega)$, but we assume that they only have access to a factor $\\Pi:\\Omega\\rightarrow\\Omega'$ of $\\Omega$ such that $x$ and $y$ are independent of $\\Pi$.\n",
    "- If we consider the RVs $u=(x,y)$ and $v=(x,z)$ representing a true system and an associated model their cross entropy is defined as\n",
    "$$\n",
    "H(u,v)=-\\int_{\\mathcal X\\times\\{\\pm\\}} f_u(x',y')\\log(f_v(x',y'))\\dee x'\\dee y'\n",
    "$$\n",
    "\n",
    "BCE minimisation: given sampled features $x_j\\in\\mathcal X$ for $j\\in I$ with corresponding targets $y_i\\in\\{\\pm\\}$ write $\\tilde y=f_z(x)$.\n",
    "Let $i$ be uniformly distributed in $I$, so that $x_i$ and $y_i$ are distributed empirically.\n",
    "The sample cross entropy is the cross entropy of the RVs\n",
    "$$\n",
    "H((x_i,y_i),(x_i,z(x_i)))=\\SBCE((f_z(x_i),y_I)=\\SBCE((f_z(x_i),y_I)=-\\frac1{\\#I}\\sum_{j\\in I}1_{y_i=+}\\log(f_z(x_i))+1_{y_i=-}\\log(1-f_z(x_i))\n",
    "$$\n",
    "and used as basis for gradient descent etc."
   ]
  },
  {
   "cell_type": "markdown",
   "id": "a2088673",
   "metadata": {},
   "source": [
    "### NN output interpreted as a log relative likelihood\n",
    "$\\newcommand\\LBCE{\\widetilde{\\mathrm{BCE}}}$\n",
    "- Write $\\rho$ for the output of a $NN$\n",
    "- Needn't have $0\\leq\\rho\\leq 1$, implementations in ML might allow any value and transform to probabilities only as necessary\n",
    "- Probability and log relative likelihood can both be used - find the latter arises in ML.\n",
    "- If $\\rho$ can take any real value the log relative likelihood is a better candidate.\n",
    "- The associated probability can then be expressed\n",
    "$$\n",
    "\\tilde y=\\sigma(\\rho).\n",
    "$$\n",
    "- Write $\\varphi(t)=-\\log(\\sigma(t))$\n",
    "- The BCE expressed in terms of the log likelihood then takes the form \n",
    "$$\n",
    "\\LBCE(\\rho,y)=\\SBCE(\\sigma(\\rho),y)=\\begin{cases}\\varphi(\\rho)\\text{ when }y=+\\text{ and}\\\\\\varphi(-\\rho)\\text{ otherwise}\\end{cases}\n",
    "$$\n",
    "- Indeed this is the actual definition of $\\texttt{sigmoid}\\_\\texttt{binary}\\_\\texttt{cross}\\_\\texttt{entropy}$ provided by optax."
   ]
  },
  {
   "cell_type": "markdown",
   "id": "f3ac0deb",
   "metadata": {},
   "source": [
    "### Loss asymptotics I: BCE\n",
    "$\\newcommand\\SBCE{\\widehat{\\textrm{BCE}}}$\n",
    "- Want to check asymptotics at high and low uncertainty.\n",
    "- By calculus\n",
    "$$\n",
    "\\varphi(t)\\sim\\begin{cases}e^{-t}\\text{ for }t\\gg0\\text{ and}\\\\ t\\text{ for }t\\ll0\\end{cases}\n",
    "$$\n",
    "- If $y=0$ and $t\\gg 0$ then\n",
    "$$\n",
    "\\partial_z\\SBCE(\\sigma(t))=-\\log(1-\\sigma(t))\\approx-\\log(1-(1-e^{-t}))=-t\n",
    "$$\n",
    "and\n",
    "$$\n",
    "\\partial_z\\SBCE(\\sigma(-t))=-\\log(1-\\sigma(-t))\\approx-\\log(1-e^{-t})\\approx e^{-t}\n",
    "$$\n",
    "- Symmetrically when $y=1$ we have\n",
    "$$\n",
    "\\partial_t\\SBCE(\\sigma(t))\\approx e^{-t}\\text{ and }\\partial_t\\SBCE(\\sigma(t))\\approx t\n",
    "$$\n",
    "Asymptotically\n",
    "- Size of gradient decays exponentially as $t$ moves in the direction of the correct prediction\n",
    "- Constant gradient for $t$ badly wrong\n"
   ]
  },
  {
   "cell_type": "code",
   "execution_count": 6,
   "id": "132161c2",
   "metadata": {},
   "outputs": [
    {
     "data": {
      "image/png": "[encoded data removed]",
      "text/plain": [
       "<Figure size 640x480 with 1 Axes>"
      ]
     },
     "metadata": {},
     "output_type": "display_data"
    }
   ],
   "source": [
    "from matplotlib.pyplot import plot,show,xscale,yscale,imshow,legend,colorbar,hist,subplots,scatter,xlabel,ylabel,axvline,axhline\n",
    "from numpy import linspace,log,exp\n",
    "def plot_asymptotics(f,f_lab,f_p,f_p_lab,f_n,f_n_lab,sh=True,\n",
    "                     x=linspace(-4,4,100),xp=linspace(0,4,50),xn=linspace(-4,0,50)):\n",
    "  plot(x,f(x),label=f_lab)\n",
    "  plot(xp,f_p(xp),color='limegreen',linestyle='dashed',label=f_p_lab)\n",
    "\n",
    "  plot(xn,f_n(xn),color='pink',linestyle='dashed',label=f_n_lab)\n",
    "  xlabel('$x$')\n",
    "  axvline(c='black',linestyle='dotted')\n",
    "  axhline(c='black',linestyle='dotted')\n",
    "  legend()\n",
    "  if sh:\n",
    "    show()\n",
    "\n",
    "phi=lambda t:-log(1/(1+exp(-t)))\n",
    "phi_p=lambda x:exp(-x)\n",
    "phi_n=lambda x:-x\n",
    "\n",
    "plot_asymptotics(phi,'$-\\\\log(\\\\sigma(x))$',phi_p,'$e^{-x}$',phi_n,'$-x$')"
   ]
  },
  {
   "cell_type": "code",
   "execution_count": 7,
   "id": "1bc97571",
   "metadata": {},
   "outputs": [],
   "source": [
    "cost_rats=[1,2,4,8,10,50,100]"
   ]
  },
  {
   "cell_type": "code",
   "execution_count": 23,
   "id": "4714c5a5",
   "metadata": {},
   "outputs": [],
   "source": [
    "from matplotlib.pyplot import plot,show,xscale,yscale,imshow,legend,colorbar,hist,subplots,scatter,title\n",
    "from jax.random import split,key,bits\n",
    "from time import perf_counter\n",
    "\n",
    "from cal.rs import resamplers_list,Resampler\n",
    "\n",
    "\n",
    "class NN(Module):\n",
    "  features:Sequence[int]\n",
    "  \n",
    "  def setup(self):\n",
    "    self.layers=[Dense(f) for f in self.features]\n",
    "    \n",
    "  def __call__(self,x):\n",
    "    x=self.layers[0](x)\n",
    "    for l in self.layers[1:]:\n",
    "      x=l(relu(x)) # in general no restruction on float output of NN - treat as log relative likelihood\n",
    "    return x\n",
    "\n",
    "class NNPL:\n",
    "  \n",
    "  def __init__(self,x_train,y_train,x_test,y_test,loss,ds_name,x_dt=None,y_dt=None,rs_dir='resampled',\n",
    "               bs=128,lr=1e-4,features=[128,64,32,1],seed=0,log=print,n_epochs=100):#[256,128,64,1]\n",
    "    self.x_train=array(x_train,dtype=x_dt)\n",
    "    if y_dt is None:\n",
    "      y_dt=bool #self.x_train.dtype\n",
    "    self.y_train=array(y_train,dtype=y_dt)\n",
    "    self.x_test=array(x_test,dtype=x_dt)\n",
    "    self.y_test=array(y_test,dtype=y_dt)\n",
    "    self.p=self.y_train.mean()\n",
    "    self.p_test=self.y_test.mean()\n",
    "    self.bs=bs\n",
    "    self.n_epochs=n_epochs\n",
    "    self.lr=lr\n",
    "    self.loss=loss\n",
    "    self.key=key(seed)\n",
    "    self.m=NN(features=features)\n",
    "    self.param=self.m.init(self.getk(),self.x_train[0])\n",
    "    self.g=jit(grad(lambda par,feat,targ:self.loss(self.m.apply(par,feat),targ).sum()))\n",
    "    self.t=adam(learning_rate=self.lr)\n",
    "    self.init_state=self.t.init(self.param)\n",
    "    self.state=self.init_state\n",
    "    self.log=log\n",
    "    self.optimal_cutoff_indices={}\n",
    "    self.ds_name=ds_name\n",
    "    self.rs_dir=rs_dir\n",
    "\n",
    "    def update(state_param,x_y):\n",
    "      state,param=state_param\n",
    "      x,y=x_y\n",
    "      g=self.g(param,x,y)\n",
    "      upd,state=self.t.update(g,state)\n",
    "      param=apply_updates(param,upd)\n",
    "      return (state,param),0\n",
    "    \n",
    "    def _updates(state_param,x_batched,y_batched):\n",
    "      return scan(update,state_param,(x_batched,y_batched))[0]\n",
    "    \n",
    "    self._updates=jit(_updates)\n",
    "    \n",
    "  def updates(self,x_batched,y_batched):\n",
    "    y_batched=y_batched.astype(x_batched.dtype)\n",
    "    self.state,self.param=self._updates((self.state,self.param),x_batched,y_batched)\n",
    "\n",
    "  def mk_preds(self):\n",
    "    self.pred_train=self.predict_cts(self.x_train).reshape(-1)\n",
    "    self.pred_test=self.predict_cts(self.x_test).reshape(-1)\n",
    "    \n",
    "  def fit(self,rs=''):\n",
    "    t0=perf_counter()\n",
    "    r=Resampler(self.x_train,self.y_train,self.rs_dir,self.ds_name,int(bits(self.getk())))\n",
    "    x,y=r.get_resampled(True,rs)\n",
    "    t1=perf_counter()\n",
    "    if rs:self.log('Resampled in',t1-t0,'seconds')\n",
    "    self.epochs(x,y)\n",
    "    self.epochs_time=perf_counter()-t1\n",
    "    self.log('Completed',self.n_epochs,'epochs in',self.epochs_time,'seconds')\n",
    "\n",
    "  def epochs(self,x,y,n=None):\n",
    "    if n is None:\n",
    "      n=self.n_epochs\n",
    "    for en in range(n):\n",
    "      self.log('Running epoch',en+1,'of',n,'...',end='\\r')\n",
    "      x_batched,y_batched=shuffle_batched(self.getk(),x,y,self.bs)\n",
    "      self.updates(x_batched,y_batched)\n",
    "    self.log('Completed',n,'epochs')\n",
    "    self.log('Getting fp-fn characteristic')\n",
    "    self.mk_preds()\n",
    "    assert self.pred_train.min()<self.pred_train.max(),\\\n",
    "           'Uh oh:'+str(self.pred_train.min())+'=='+str(self.pred_train.max())\n",
    "\n",
    "    self.fp_fn_signature()\n",
    "\n",
    "  def predict_cts(self,x):\n",
    "    return self.m.apply(self.param,x)\n",
    "  \n",
    "  def fp_fn_signature(self):\n",
    "    d_err=(1/len(self.y_train))\n",
    "    self.ind_by_pred=argsort(self.pred_train)\n",
    "    self.targ_by_pred=self.y_train[self.ind_by_pred]\n",
    "    self.pred_sorted=self.pred_train[self.ind_by_pred]\n",
    "    self.fn_rates=cumsum(self.targ_by_pred)*d_err\n",
    "    self.fp_rates=flip(cumsum(flip(~self.targ_by_pred)))*d_err\n",
    "    assert self.fp_rates.min()<self.fp_rates.max(),'Uh oh:'+str(self.fp_rates.min())+'=='+str(self.fp_rates.max())\n",
    "    \n",
    "    \n",
    "    self.by_pred_test=argsort(self.pred_test)\n",
    "    \n",
    "    d_err_test=(1/len(self.y_test))\n",
    "\n",
    "    self.targ_by_pred_test=self.y_test[self.by_pred_test]\n",
    "    self.pred_sorted_test=self.pred_test[self.by_pred_test]\n",
    "    self.fn_rates_test=cumsum(self.targ_by_pred_test)*d_err_test\n",
    "    self.fp_rates_test=flip(cumsum(flip(~self.targ_by_pred_test)))*d_err_test\n",
    "  \n",
    "  def get_optimal_cutoff_ind(self,cost_ratio):\n",
    "    return argmin(self.fp_rates+self.fn_rates*cost_ratio)\n",
    "  \n",
    "  def get_optimal_cutoff(self,cost_ratio):\n",
    "    return self.pred_sorted[self.get_optimal_cutoff_ind(cost_ratio)]\n",
    "  \n",
    "  def get_bayes_cutoff(self,cost_ratio):\n",
    "    return -log(cost_ratio)\n",
    "\n",
    "  def get_bayes_cutoff_ind(self,cost_ratio):\n",
    "    return argmax(self.targ_by_pred>self.get_bayes_cutoff(cost_ratio))\n",
    "  \n",
    "  def getk(self):\n",
    "    self.key,k=split(self.key)\n",
    "    return k\n",
    "\n",
    "  def predict_bin(self,x,cost_ratio,cutoff_rule='bayes'): # NN output is relative likelihood so take log\n",
    "    pred=self.predict_cts(x)\n",
    "    if cutoff_rule=='bayes':\n",
    "      cutoff=-log(cost_ratio)#inverse_sigmoid(cost_ratio)\n",
    "    elif cutoff_rule=='optimal':\n",
    "      cutoff=self.get_optimal_cutoff(cost_ratio)\n",
    "      \n",
    "    return pred>cutoff\n",
    "  \n",
    "  def fp_fn(self,cost_ratio,cutoff_rule='bayes'):\n",
    "    if cutoff_rule=='optimal':\n",
    "      ind_train=self.get_optimal_cutoff_ind(cost_ratio)\n",
    "      ind_test=argmax(self.pred_sorted_test>self.pred_sorted[ind_train])\n",
    "    elif cutoff_rule=='bayes':\n",
    "      ind_train=self.get_bayes_cutoff_ind(cost_ratio)\n",
    "      ind_test=argmax(self.pred_sorted_test>self.pred_sorted[ind_train])\n",
    "    ret={}\n",
    "    for l,ind,fpr,fnr in (('train',ind_train,self.fp_rates,self.fn_rates),\n",
    "                          ('test',ind_test,self.fp_rates_test,self.fn_rates_test)):\n",
    "      ret[l]={'fp':fpr[ind],'fn':fnr[ind]}\n",
    "    return ret\n",
    "  \n",
    "  def report(self,cost_rats):\n",
    "    just=14\n",
    "    lj=lambda x:str(x).ljust(just)\n",
    "    cutoff_rules=['bayes','optimal']\n",
    "    self.log('cost_rat'.ljust(just)+(''.join([(lj('fp_'+s))+(lj('fn_'+s)) for s in cutoff_rules]))+\\\n",
    "             lj('fp_test')+lj('fn_test')+lj('E_test(cost)'))\n",
    "    for cost_ratio in cost_rats:\n",
    "      s=lj(str(cost_ratio))\n",
    "      for cutoff_rule in cutoff_rules:\n",
    "        res=self.fp_fn(cost_ratio,cutoff_rule=cutoff_rule)\n",
    "        s+=lj(res['train']['fp'])+lj(res['train']['fn'])\n",
    "      s+=lj(res['test']['fp'])+lj(res['test']['fn'])\n",
    "      s+=lj((res['test']['fp']+res['test']['fn']*cost_ratio)/(1+cost_ratio))\n",
    "      print(s)\n",
    "  \n",
    "  def plot(self,ttl):\n",
    "    show()\n",
    "    plot(self.fp_rates,self.fn_rates)\n",
    "    plot([self.fp_rates[0],self.fp_rates[-1]],[self.fn_rates[0],self.fn_rates[-1]])\n",
    "    title(ttl)\n",
    "    xlabel('False positives')\n",
    "    ylabel('False negatives')\n",
    "    show()\n"
   ]
  },
  {
   "cell_type": "markdown",
   "id": "a7cdbdd2",
   "metadata": {},
   "source": [
    "## Experiment 0\n",
    "### Experiment 0.1: BCE on raw data\n",
    "- Here we train with BCE and measure performance against a range of possible cost ratios\n",
    "- Want to test effects of common resampling techniques"
   ]
  },
  {
   "cell_type": "code",
   "execution_count": 24,
   "id": "7d8fbff0",
   "metadata": {},
   "outputs": [
    {
     "data": {
      "image/png": "[encoded data removed]",
      "text/plain": [
       "<Figure size 640x480 with 1 Axes>"
      ]
     },
     "metadata": {},
     "output_type": "display_data"
    }
   ],
   "source": [
    "nnpl=NNPL(x_train,y_train,x_test,y_test,sigmoid_binary_cross_entropy,'unsw')\n",
    "\n",
    "nnpl.mk_preds()\n",
    "nnpl.fp_fn_signature()\n",
    "nnpl.plot('No training')"
   ]
  },
  {
   "cell_type": "code",
   "execution_count": 25,
   "id": "0821dc85",
   "metadata": {},
   "outputs": [
    {
     "name": "stdout",
     "output_type": "stream",
     "text": [
      "Completed 100 epochs 100 ...\n",
      "Getting fp-fn characteristic\n",
      "Completed 100 epochs in 11.47765067499131 seconds\n",
      "Not well calibrated (Bayes rule for threshold is useless) but not a problem really\n",
      "cost_rat      fp_bayes      fn_bayes      fp_optimal    fn_optimal    fp_test       fn_test       E_test(cost)  \n",
      "1             0.7718331     5.7031725e-06 0.028487347   0.0059427056  0.020818152   0.03876986    0.05958801    \n",
      "2             0.77187306    0.0           0.028880866   0.0056119217  0.021534763   0.035526894   0.09258855    \n",
      "4             0.77187306    0.0           0.029000632   0.005560593   0.021668367   0.034373026   0.15916047    \n",
      "8             0.77187306    0.0           0.033061292   0.0048020715  0.025992325   0.01995579    0.18563864    \n",
      "10            0.77187306    0.0           0.033061292   0.0048020715  0.025992325   0.01995579    0.22555022    \n",
      "50            0.77187306    0.0           0.037749298   0.0046195695  0.031628042   0.01252247    0.65775156    \n",
      "100           0.77187306    0.0           0.037749298   0.0046195695  0.031628042   0.01252247    1.283875      \n"
     ]
    },
    {
     "data": {
      "image/png": "[encoded data removed]",
      "text/plain": [
       "<Figure size 640x480 with 1 Axes>"
      ]
     },
     "metadata": {},
     "output_type": "display_data"
    }
   ],
   "source": [
    "nnpl.fit()\n",
    "print('Not well calibrated (Bayes rule for threshold is useless) but not a problem really')\n",
    "nnpl.report(cost_rats)\n",
    "nnpl.plot('NN trained on UNSW with BCE')"
   ]
  },
  {
   "cell_type": "markdown",
   "id": "7d077609",
   "metadata": {},
   "source": [
    "### Experiment 0.2: Effects of resampling schemes on BCE\n",
    "$\\newcommand\\rs{\\texttt{rs}}$\n",
    "- Common to try using various resampling schemes during training\n",
    "- Such a scheme takes dataset $D=(x^{(i)},y^{(i)})$ and transforms it to $D_\\rs=(x_\\rs^{(i)},y_\\rs^{(i)})$\n",
    "- Idea: address issues that arise from imbalance (note this framing is contentious in literature, with some taking a view that particularly hard problems described in this way may be better understood as a problem of limited data)"
   ]
  },
  {
   "cell_type": "code",
   "execution_count": 26,
   "id": "c362761b",
   "metadata": {},
   "outputs": [
    {
     "name": "stdout",
     "output_type": "stream",
     "text": [
      "['NearMiss', 'SMOTEENN', 'ADASYN', 'SMOTE', 'SMOTETomek', '']\n"
     ]
    }
   ],
   "source": [
    "print(resamplers_list)"
   ]
  },
  {
   "cell_type": "code",
   "execution_count": null,
   "id": "3dffa45e",
   "metadata": {},
   "outputs": [],
   "source": [
    "nns={}\n",
    "for rs in resamplers_list:\n",
    "  nn=NNPL(x_train,y_train,x_test,y_test,sigmoid_binary_cross_entropy,'unsw')\n",
    "  nn.fit(rs=rs)\n",
    "  nnpl.report(cost_rats)\n",
    "  nns[rs]=nn"
   ]
  },
  {
   "cell_type": "markdown",
   "id": "9e092f8d",
   "metadata": {},
   "source": [
    "#### Cost loss?\n",
    "- Probablistically BCE loss analogous to learning likelihoods over wide range - use cases include high uncertainty in future costs\n",
    "- Fixing costs is in a sense at other extreme of possible approaches - all we care about is whether likelihoods are above a set threshold\n",
    "- Costs $\\chi_\\pm$ for false negatives and false positives have an associated loss with constant gradient with respect to $\\tilde y$ for fixed $y'\\in\\{\\pm\\}$,\n",
    "$$\n",
    "C_\\chi(\\tilde y,y)=\\chi_+1_{y=+}(1-\\tilde y)+\\chi_-1_{y=-}\\tilde y\n",
    "$$\n",
    "so that gradients in the direction of the correct label are scaled by some notion of importance of each class.\n",
    "When reframed as a function of the density this becomes\n",
    "$$\n",
    "\\widetilde C_\\chi(\\rho,y)=\\chi_+1_{y=+}\\sigma(-\\rho)+\\chi_-1_{y=-}\\sigma(\\rho)\n",
    "$$"
   ]
  },
  {
   "cell_type": "markdown",
   "id": "4f14a09f",
   "metadata": {},
   "source": [
    "### Experiment 0.2: Cost"
   ]
  },
  {
   "cell_type": "code",
   "execution_count": null,
   "id": "3a9448ea",
   "metadata": {
    "scrolled": true
   },
   "outputs": [],
   "source": [
    "def mk_cost(cr):\n",
    "  def cost(pred,targ):\n",
    "    pred=sigmoid(pred)\n",
    "    return (cr*targ*(1-pred)+(1-targ)*pred)\n",
    "  return jit(cost)\n",
    "\n",
    "print('Training on cost...')\n",
    "for cr in cost_rats+[200,400]:\n",
    "  nn=NNPL(x_train,y_train,x_test,y_test,mk_cost(cr))\n",
    "  nn.epochs()\n",
    "  nn.report(cost_rats)\n",
    "  nn.plot('NN trained on UNSW with cost for ratio '+str(cr))"
   ]
  },
  {
   "cell_type": "markdown",
   "id": "29574a77",
   "metadata": {},
   "source": [
    "# General classifier losses as weighted sums of costs\n",
    "- At a glance seems cost may be useless - but any loss of interest can be written as a sum of all possible costs\n",
    "\n"
   ]
  },
  {
   "cell_type": "markdown",
   "id": "dac38c51",
   "metadata": {},
   "source": [
    "## Expected misclassification cost \n",
    "In a random formulation eg per https://link.springer.com/article/10.1007/s10994-024-06634-8 we seek to minimise $c$ in expectation:\n",
    "$\\newcommand\\dee{\\mathrm{d}}$\n",
    "$$\n",
    "\\mathbb E(c)=\\int_{\\Sigma\\times\\mathcal X\\times\\mathcal Y} C_\\sigma(y',\\hat y_{\\sigma'}(x'))\\dee\\mathbb P(\\sigma',x',y')\n",
    "$$\n",
    "Try their losses - but might be the case that most important aspect of analysis is asymptotic behaviour of losses\n"
   ]
  },
  {
   "cell_type": "markdown",
   "id": "2f3dccb4",
   "metadata": {},
   "source": [
    "### Beta losses\n",
    "\n",
    "- Authors let positive and negative costs be gamma RVs with parameters $(\\alpha,\\theta)$ and and obtain an expected misclassification cost proportional to\n",
    "\\begin{align*}\n",
    "L_{\\alpha\\beta}(\\tilde y,y)=&\\int_0^{\\tilde y}(t-y)t^{\\alpha-1}(1-t)^{\\beta-1}\\dee t\\\\\n",
    "=&\\begin{cases} -\\int_0^{\\tilde y}t^{\\alpha-1}(1-t)^\\beta\\dee t\\text{ if }y=+,\\\\\n",
    "\\int_0^{\\tilde y}t^\\alpha(1-t)^{\\beta-1}\\dee t\\text{ otherwise}\\end{cases}\\\\\n",
    "=&B(\\alpha+(1-y),\\beta+y;\\tilde y)\\\\\n",
    "=&B(a,b,\\tilde y)\\text{ for convenience}\n",
    "\\end{align*}\n",
    "- $B$ is well known - the (incomplete) beta function \n"
   ]
  },
  {
   "cell_type": "markdown",
   "id": "6f5c1a16",
   "metadata": {},
   "source": [
    "### Loss asymptotics II: Beta loss at high certainties\n",
    "- $a$ and $b$ describe the asymptotic order of $B(a,b,t)$ for $t\\approx0$ and $t\\approx 1$ respectively\n",
    "- Specifically can check that\n",
    "$$\n",
    "B(a,b,t)\\sim\\begin{cases}O\\left(\\begin{cases}t^a\\text{ if }a>0\\\\\\log(t)\\text{ if }a=0\\end{cases}\\right)\\text{ when }0\\approx t\\ll1,\\\\O\\left(\\begin{cases}(1-t)^b\\text{ if }b>0\\\\\\log(1-t)\\text{ if }b=0\\end{cases}\\right)\\text{ when }0\\ll t\\approx1\\end{cases}\n",
    "$$\n"
   ]
  },
  {
   "cell_type": "markdown",
   "id": "c0a5486c",
   "metadata": {},
   "source": [
    "- This behaviour is mirrored in the log likelihood picture, where\n",
    "$$\n",
    "\\widetilde B(a,b,\\rho)\\sim\\begin{cases}\n",
    "O\\left(\\begin{cases}\n",
    "e^{\\rho a}\\text{ if }a>0\\\\\n",
    "\\rho\\text{ if }a=0\n",
    "\\end{cases}\\right)\\text{ when }\\rho\\ll0,\\\\\n",
    "O\\left(\\begin{cases}\n",
    "e^{-\\rho b}\\text{ if }b>0\\\\\n",
    "-\\rho\\text{ if }b=0\n",
    "\\end{cases}\\right)\\text{ when }\\rho\\gg0\n",
    "\\end{cases}\n",
    "$$"
   ]
  },
  {
   "cell_type": "markdown",
   "id": "bc5cdad7",
   "metadata": {},
   "source": [
    "- which means that\n",
    "$$\n",
    "\\widetilde L_{\\alpha\\beta}(\\rho,+)=\\tilde B(\\alpha,\\beta+1;\\rho)\\sim\n",
    "\\begin{cases}\n",
    "O(-e^{\\rho\\alpha})\\text{ if }\\alpha>0,~y=+\\text{ and }\\rho\\ll0\\\\\n",
    "O(-\\rho)\\text{ if }\\alpha=0,~y=+\\text{ and }\\rho\\ll0\\\\\n",
    "O(e^{\\rho(\\beta+1)})\\text{ if }~y=+\\text{ and }\\rho\\gg0\\\\\n",
    "\\end{cases}\n",
    "$$"
   ]
  },
  {
   "cell_type": "markdown",
   "id": "2ba34e4a",
   "metadata": {},
   "source": [
    "- The parameters $\\alpha$ and $\\beta$ are not directly related to any single value of cost and should be taken to describe the tail risk associated with each type of error\n",
    "- This is in line with the consequences of different decisions eg in the case of cybersecurity - legitimate traffic on a network being blocked may cause serious problems in the short term, but doesn't typically have the risks associated with malicious actors being able to access a network."
   ]
  },
  {
   "cell_type": "markdown",
   "id": "58960283",
   "metadata": {},
   "source": [
    "### Loss asymptotics III: Beta loss for small $\\alpha$ and $\\beta$ as perturbations of BCE\n",
    "- From above discussion view $\\alpha$ and $\\beta$ as controlling the cost uncertainty for false \n",
    "- Need each of $\\alpha'$ and $\\beta'$ in the above expression to be nonnegative, whence it is necessary that $(\\alpha,\\beta)\\in[0,\\infty)^2$\n",
    "- Can check by substitution that $B(a,b;c)=B(b,a,1-c)$ and $B(-1,0;\\tilde y)=\\log\\tilde y$\n",
    "- It follows that $L_{00}=\\SBCE$\n",
    "- If $\\alpha$ and $\\beta$ are small this is a parameterised perturbation of the BCE - in order for the loss to be well defined both $\\alpha$ and $\\beta$ must be nonnegative so the BCE can be seen is a limit as uncertainty in the positive and negative costs diverges"
   ]
  },
  {
   "cell_type": "code",
   "execution_count": null,
   "id": "b18a2338",
   "metadata": {},
   "outputs": [],
   "source": [
    "from jax.scipy.special import betainc\n",
    "def mk_beta(alpha,beta):\n",
    "  def b(t):\n",
    "    return betainc(alpha,beta,sigmoid(t))\n",
    "  return jit(b)\n",
    "\n",
    "alphas_betas=[(a,b) for a in linspace(0,1,6) for b in linspace(a+1,a+3,4)]\n",
    "\n",
    "Ir=linspace(-4,4,50)\n",
    "for a,b in alphas_betas:\n",
    "  plot(Ir,mk_beta(a,b)(Ir))\n",
    "title('Beta losses as a function of predicted likelihood for y=+')\n",
    "show()\n",
    "\n",
    "Ip=linspace(0,1,50)\n",
    "for a,b in alphas_betas:\n",
    "  plot(Ip,betainc(a,b,Ip))\n",
    "title('Beta losses as a function of predicted probability for y=+')\n",
    "show()\n",
    "\n",
    "def mk_beta_loss(alpha,beta)):\n",
    "  bet_pos=mk_beta(alpha,beta)\n",
    "  def beta_loss(pred,targ):\n",
    "    \n"
   ]
  },
  {
   "cell_type": "markdown",
   "id": "6f618854",
   "metadata": {},
   "source": [
    "### Loss asymptotics III: $\\alpha$ versus $\\beta$\n",
    "\n",
    "\\begin{align*}\n",
    "\\widetilde L_{\\alpha\\beta}(\\rho,y)=&\\int_{-\\infty}^\\rho(\\sigma(r)-y)(\\sigma(r)^{\\alpha+1})(1-\\sigma(r))^{\\beta-1}e^{-r}\\dee r\\\\\n",
    "=&\\int_{-\\rho}^\\infty((1-\\sigma(r))-y)((1-\\sigma(r))^{\\alpha-1})(\\sigma(r))^{\\beta+1}e^{r}\\dee r\\\\\n",
    "\\end{align*}\n",
    "\n"
   ]
  },
  {
   "cell_type": "markdown",
   "id": "742125b6",
   "metadata": {},
   "source": [
    "### Loss asymptotics III: General Beta losses\n",
    "Rewriting the loss in terms of relative likelihood we get\n"
   ]
  },
  {
   "cell_type": "code",
   "execution_count": null,
   "id": "fa584940",
   "metadata": {},
   "outputs": [],
   "source": [
    "def sample_expected_loss(targ,pred,)"
   ]
  },
  {
   "cell_type": "code",
   "execution_count": null,
   "id": "7559fc29",
   "metadata": {},
   "outputs": [],
   "source": [
    "!ls"
   ]
  },
  {
   "cell_type": "code",
   "execution_count": null,
   "id": "1fc9049c",
   "metadata": {},
   "outputs": [],
   "source": [
    "!ls cal"
   ]
  },
  {
   "cell_type": "code",
   "execution_count": null,
   "id": "9f3c26e8",
   "metadata": {},
   "outputs": [],
   "source": []
  },
  {
   "cell_type": "code",
   "execution_count": null,
   "id": "d564992f",
   "metadata": {},
   "outputs": [],
   "source": [
    "print(y_train.shape)"
   ]
  },
  {
   "cell_type": "code",
   "execution_count": null,
   "id": "76c5b9ae",
   "metadata": {
    "scrolled": true
   },
   "outputs": [],
   "source": [
    "print(y_train.dtype)"
   ]
  },
  {
   "cell_type": "code",
   "execution_count": null,
   "id": "fb28c464",
   "metadata": {
    "scrolled": true
   },
   "outputs": [],
   "source": [
    "y_train[:10]"
   ]
  },
  {
   "cell_type": "code",
   "execution_count": null,
   "id": "97b1c5b9",
   "metadata": {},
   "outputs": [],
   "source": [
    "def binarise(x,red=None):#not ery efficient ofh well\n",
    "  b=array([[i for i in _x.tobytes()] for _x in x],dtype=bool)\n",
    "  red=b.max(axis=0)!=b.min(axis=0) if red is None else red\n",
    "  print(red)\n",
    "  return {'x':b[:,red],'mask':red}\n",
    "\n"
   ]
  },
  {
   "cell_type": "code",
   "execution_count": null,
   "id": "1d823a90",
   "metadata": {},
   "outputs": [],
   "source": [
    "\n",
    "#binarise train and test data - possibly silly?\n",
    "Y={'generic_train':generic_train,'generic_test':generic_test}\n",
    "X_train={'orig':{'x':x_train_orig},'norm':{'x':x_train_norm}}\n",
    "X_test={'orig':{'x':x_test_orig},'norm':{'x':x_test_norm}}\n",
    "redundant_dims={}\n",
    "[(X_train.update({lab+'_bin':a}),redundant_dims.update({lab:b})) for lab,(a,b) in\\\n",
    " [(lab,binarise(x['x'])) for (lab,x) in X_train.items()]]\n",
    "                \n",
    "[print(x['x'].shape) for k,x in X_train.items()]"
   ]
  },
  {
   "cell_type": "code",
   "execution_count": null,
   "id": "488711a3",
   "metadata": {},
   "outputs": [],
   "source": [
    "\n",
    "[X_test.update({lab+'_bin':binarise(x['x'],red=redundant_dims[lab])}) for (lab,x) in X_test.items()]"
   ]
  },
  {
   "cell_type": "code",
   "execution_count": null,
   "id": "f8689665",
   "metadata": {},
   "outputs": [],
   "source": [
    "[print(k,v['x'].shape) for k,v in X_train.items()]"
   ]
  },
  {
   "cell_type": "code",
   "execution_count": null,
   "id": "ef96cf73",
   "metadata": {},
   "outputs": [],
   "source": [
    "def get_dat(x,y):\n",
    "  r={}\n",
    "  y=y.reshape(-1,1)\n",
    "\n",
    "  r['fp']=(x&~y).mean(axis=0)\n",
    "  r['fn']=((~x)&y).mean(axis=0)\n",
    "  print(x.shape)\n",
    "  r['dim_universe']=sum(x.max(axis=0)!=x.min(axis=0))\n",
    "  r['avg']=x.mean(axis=0)\n",
    "\n",
    "  return r\n",
    "  \n",
    "def plot_dat(d,l):\n",
    "  subplots()\n",
    "  print(l,':')\n",
    "  if l=='fpfn':\n",
    "    scatter(d['fp'],d['fn'])\n",
    "  else:\n",
    "    hist(d[l])\n",
    "  "
   ]
  },
  {
   "cell_type": "code",
   "execution_count": null,
   "id": "2f139bfa",
   "metadata": {},
   "outputs": [],
   "source": [
    "\n",
    "print(generic_train.shape)\n",
    "print(generic_test.mean())\n"
   ]
  },
  {
   "cell_type": "code",
   "execution_count": null,
   "id": "8caa200c",
   "metadata": {},
   "outputs": [],
   "source": [
    "dat_bin_orig=get_dat(X_train['orig_bin']['x'],generic_train)\n",
    "dat_bin_normalised=get_dat(X_train['norm_bin']['x'],generic_train)\n",
    "\n",
    "\n",
    "print('Ambient dimension of original:',dat_bin_orig['dim_universe'])\n",
    "\n",
    "print('Ambient dimension after mu,sigma=0,1 rescaling:',dat_bin_normalised['dim_universe'])"
   ]
  },
  {
   "cell_type": "code",
   "execution_count": null,
   "id": "7f91adae",
   "metadata": {},
   "outputs": [],
   "source": [
    "print('Original:')\n",
    "plot_dat(dat_bin_orig,'fp')\n",
    "plot_dat(dat_bin_orig,'fn')\n",
    "plot_dat(dat_bin_orig,'fpfn')\n",
    "print(dat_bin_normalised['fn'])\n",
    "#xscale('log')\n",
    "#yscale('log')"
   ]
  },
  {
   "cell_type": "code",
   "execution_count": null,
   "id": "a10c7ee3",
   "metadata": {},
   "outputs": [],
   "source": [
    "res={}\n",
    "for l,xd in X_train.items():\n",
    "  x=xd['x']\n",
    "  \n",
    "  m=RandomForestRegressor(n_jobs=-1)\n",
    "  m.fit(x,generic_train)\n",
    "  \n",
    "  res[l]=m\n",
    "\n",
    "\n",
    "\n"
   ]
  },
  {
   "cell_type": "code",
   "execution_count": null,
   "id": "b20993af",
   "metadata": {},
   "outputs": [],
   "source": []
  },
  {
   "cell_type": "code",
   "execution_count": null,
   "id": "ba83aef0",
   "metadata": {},
   "outputs": [],
   "source": [
    "print(list(res))"
   ]
  },
  {
   "cell_type": "code",
   "execution_count": null,
   "id": "c14109f4",
   "metadata": {},
   "outputs": [],
   "source": [
    "def fp_fn(mod,x,y,thresh):\n",
    "  yp=mod.predict(x)>thresh\n",
    "  return {'fp':(yp&(~y)).mean(),'fn':((~yp)&y).mean()}"
   ]
  },
  {
   "cell_type": "code",
   "execution_count": null,
   "id": "a3e4329b",
   "metadata": {},
   "outputs": [],
   "source": [
    "[print(l,*fp_fn(res[l],v['x'],generic_train,.5).items()) for l,v in X_train.items()]"
   ]
  },
  {
   "cell_type": "code",
   "execution_count": null,
   "id": "e63fff04",
   "metadata": {},
   "outputs": [],
   "source": [
    "[print(l,*fp_fn(res[l],v['x'],generic_test,.5).items()) for l,v in X_test.items()]"
   ]
  },
  {
   "cell_type": "code",
   "execution_count": null,
   "id": "e0f4810f",
   "metadata": {},
   "outputs": [],
   "source": [
    "print(*fp_fn(res['orig']['bin'],x_binary_orig,generic,.5).items())"
   ]
  },
  {
   "cell_type": "code",
   "execution_count": null,
   "id": "cbc66b40",
   "metadata": {},
   "outputs": [],
   "source": [
    "print(*fp_fn(res['normalised']['bin'],x_binary_normalised,generic,.5).items())"
   ]
  },
  {
   "cell_type": "code",
   "execution_count": null,
   "id": "ebecf29d",
   "metadata": {},
   "outputs": [],
   "source": []
  },
  {
   "cell_type": "code",
   "execution_count": null,
   "id": "319df5d4",
   "metadata": {},
   "outputs": [],
   "source": []
  },
  {
   "cell_type": "code",
   "execution_count": null,
   "id": "de83269f",
   "metadata": {},
   "outputs": [],
   "source": []
  },
  {
   "cell_type": "code",
   "execution_count": null,
   "id": "79ea1e74",
   "metadata": {},
   "outputs": [],
   "source": []
  }
 ],
 "metadata": {
  "kernelspec": {
   "display_name": "Gleeb",
   "language": "python",
   "name": "gleeb"
  },
  "language_info": {
   "codemirror_mode": {
    "name": "ipython",
    "version": 3
   },
   "file_extension": ".py",
   "mimetype": "text/x-python",
   "name": "python",
   "nbconvert_exporter": "python",
   "pygments_lexer": "ipython3",
   "version": "3.12.3"
  }
 },
 "nbformat": 4,
 "nbformat_minor": 5
}
