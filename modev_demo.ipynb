{
 "cells": [
  {
   "cell_type": "code",
   "execution_count": 1,
   "id": "680d6ae9",
   "metadata": {},
   "outputs": [],
   "source": [
    "from pathlib import Path\n",
    "from os.path import dirname,abspath\n",
    "from sys import path,argv,stdout\n",
    "#path.append(dirname(dirname(abspath(__file__))))\n",
    "from cal.cal import ModelEvaluation\n",
    "from cal.rs import resamplers_list\n",
    "from itertools import product"
   ]
  },
  {
   "cell_type": "code",
   "execution_count": 2,
   "id": "329dacb6",
   "metadata": {},
   "outputs": [],
   "source": [
    "params={'nn':[],#[dict(lr_ad=1e-3,reg=1e-5,lrfpfn=5e-3,bias=0.,times=(128,),#(1,2,4,8,16,32,64,128),\n",
    "                   #start_width=sw,end_width=ew,depth=d,bs=128,act='relu',adap_thresh=adt,\n",
    "                   #init='glorot_normal',eps=1e-8,beta1=.9,beta2=.999,layer_norm=False)\\\n",
    "                       #for sw,ew,d,adt in product([128],[32],[4],[True,False])],\n",
    "        'sk':[dict(regressor=rg,\n",
    "                   **({'max_depth':md} if rg in ['RandomForestClassifier',\n",
    "                                                 'RandomForestRegressor'] else {}),\n",
    "                   **({'class_weight':(1,1)} if rg in ['RandomForestClassifier',\n",
    "                                                       'NuSVC'] else {}),\n",
    "                   **({'n_jobs':-1} if rg in ['RandomForestRegressor','RandomForestClassifier'] else {}))\\\n",
    "              for md,rg in product([14],['RandomForestRegressor',#'HistGradientBoostingRegressor',\n",
    "                                        'RandomForestClassifier','NuSVC'])]}\n"
   ]
  },
  {
   "cell_type": "code",
   "execution_count": 3,
   "id": "b25f4179",
   "metadata": {},
   "outputs": [
    {
     "name": "stdout",
     "output_type": "stream",
     "text": [
      "['NearMiss', 'SMOTEENN', 'ADASYN', 'SMOTE', 'SMOTETomek', '']\n"
     ]
    }
   ],
   "source": [
    "print(resamplers_list)"
   ]
  },
  {
   "cell_type": "code",
   "execution_count": 4,
   "id": "4fc2278a",
   "metadata": {},
   "outputs": [],
   "source": [
    "m=ModelEvaluation(ds='unsw',lab_cat=True,params=params,fpfn_curve_n_points=1000,logf=stdout,directory='jup_res')\n"
   ]
  },
  {
   "cell_type": "code",
   "execution_count": 5,
   "id": "3a3990c9",
   "metadata": {},
   "outputs": [],
   "source": [
    "m.set_targets()\n"
   ]
  },
  {
   "cell_type": "code",
   "execution_count": 6,
   "id": "c855906c",
   "metadata": {},
   "outputs": [
    {
     "name": "stdout",
     "output_type": "stream",
     "text": [
      "12 jobs to perform:\n",
      "sk  params: {'max_depth': 14, 'n_jobs': -1, 'regressor': 'RandomForestRegressor'}\n",
      "sk SMOTE params: {'max_depth': 14, 'n_jobs': -1, 'regressor': 'RandomForestRegressor'}\n",
      "sk SMOTE params: {'class_weight': (1, 1), 'regressor': 'NuSVC'}\n",
      "sk SMOTEENN params: {'class_weight': (1, 1), 'regressor': 'NuSVC'}\n",
      "sk SMOTETomek params: {'class_weight': (1, 1), 'regressor': 'NuSVC'}\n",
      "sk SMOTEENN params: {'class_weight': (1, 1), 'max_depth': 14, 'n_jobs': -1, 'regressor': 'RandomForestClassifier'}\n",
      "sk SMOTETomek params: {'class_weight': (1, 1), 'max_depth': 14, 'n_jobs': -1, 'regressor': 'RandomForestClassifier'}\n",
      "sk  params: {'class_weight': (1, 1), 'max_depth': 14, 'n_jobs': -1, 'regressor': 'RandomForestClassifier'}\n",
      "sk SMOTEENN params: {'max_depth': 14, 'n_jobs': -1, 'regressor': 'RandomForestRegressor'}\n",
      "sk SMOTE params: {'class_weight': (1, 1), 'max_depth': 14, 'n_jobs': -1, 'regressor': 'RandomForestClassifier'}\n",
      "sk  params: {'class_weight': (1, 1), 'regressor': 'NuSVC'}\n",
      "sk SMOTETomek params: {'max_depth': 14, 'n_jobs': -1, 'regressor': 'RandomForestRegressor'}\n"
     ]
    }
   ],
   "source": [
    "m.define_jobs(resamplers=['','SMOTE','SMOTETomek','SMOTEENN'])"
   ]
  },
  {
   "cell_type": "code",
   "execution_count": null,
   "id": "26eed3e8",
   "metadata": {
    "scrolled": true
   },
   "outputs": [
    {
     "name": "stdout",
     "output_type": "stream",
     "text": [
      "Initialising model...\n",
      "method: sk\n",
      "resampling: none\n",
      "Parameters:\n",
      "max_depth 14\n",
      "n_jobs -1\n",
      "regressor RandomForestRegressor\n",
      "Benchmarking...\n",
      "Training for label Backdoor ...\n",
      "...completed training for label Backdoor ...\n",
      "Finding points for the fp fn curve...\n",
      "Finding points for the fp fn curve...\n",
      "Training for label Analysis ...\n",
      "...completed training for label Analysis ...\n",
      "Finding points for the fp fn curve...\n",
      "Finding points for the fp fn curve...\n",
      "Training for label Worms ...\n",
      "...completed training for label Worms ...\n",
      "Finding points for the fp fn curve...\n",
      "Finding points for the fp fn curve...\n",
      "Training for label Exploits ...\n",
      "...completed training for label Exploits ...\n",
      "Finding points for the fp fn curve...\n",
      "Finding points for the fp fn curve...\n",
      "Training for label DoS ...\n",
      "...completed training for label DoS ...\n",
      "Finding points for the fp fn curve...\n",
      "Finding points for the fp fn curve...\n",
      "Training for label Fuzzers ...\n",
      "...completed training for label Fuzzers ...\n",
      "Finding points for the fp fn curve...\n",
      "Finding points for the fp fn curve...\n",
      "Training for label Shellcode ...\n",
      "...completed training for label Shellcode ...\n",
      "Finding points for the fp fn curve...\n",
      "Finding points for the fp fn curve...\n",
      "Training for label Generic ...\n",
      "...completed training for label Generic ...\n",
      "Finding points for the fp fn curve...\n",
      "Finding points for the fp fn curve...\n",
      "Training for label Normal ...\n",
      "...completed training for label Normal ...\n",
      "Finding points for the fp fn curve...\n",
      "Finding points for the fp fn curve...\n",
      "Training for label Reconnaissance ...\n",
      "...completed training for label Reconnaissance ...\n",
      "Finding points for the fp fn curve...\n",
      "Finding points for the fp fn curve...\n",
      "Updating results...\n",
      "Removing job...\n",
      "1 experiments completed with 11 to go...\n",
      "Initialising model...\n",
      "method: sk\n",
      "resampling: SMOTE\n",
      "Parameters:\n",
      "max_depth 14\n",
      "n_jobs -1\n",
      "regressor RandomForestRegressor\n",
      "Benchmarking...\n",
      "Training for label Backdoor ...\n",
      "...completed training for label Backdoor ...\n",
      "Finding points for the fp fn curve...\n",
      "Finding points for the fp fn curve...\n",
      "Training for label Analysis ...\n",
      "...completed training for label Analysis ...\n",
      "Finding points for the fp fn curve...\n",
      "Finding points for the fp fn curve...\n",
      "Training for label Worms ...\n",
      "...completed training for label Worms ...\n",
      "Finding points for the fp fn curve...\n",
      "Finding points for the fp fn curve...\n",
      "Training for label Exploits ...\n",
      "...completed training for label Exploits ...\n",
      "Finding points for the fp fn curve...\n",
      "Finding points for the fp fn curve...\n",
      "Training for label DoS ...\n",
      "...completed training for label DoS ...\n",
      "Finding points for the fp fn curve...\n",
      "Finding points for the fp fn curve...\n",
      "Training for label Fuzzers ...\n",
      "...completed training for label Fuzzers ...\n",
      "Finding points for the fp fn curve...\n",
      "Finding points for the fp fn curve...\n",
      "Training for label Shellcode ...\n",
      "...completed training for label Shellcode ...\n",
      "Finding points for the fp fn curve...\n",
      "Finding points for the fp fn curve...\n",
      "Training for label Generic ...\n",
      "...completed training for label Generic ...\n",
      "Finding points for the fp fn curve...\n",
      "Finding points for the fp fn curve...\n",
      "Training for label Normal ...\n",
      "...completed training for label Normal ...\n",
      "Finding points for the fp fn curve...\n",
      "Finding points for the fp fn curve...\n",
      "Training for label Reconnaissance ...\n",
      "...completed training for label Reconnaissance ...\n",
      "Finding points for the fp fn curve...\n",
      "Finding points for the fp fn curve...\n",
      "Updating results...\n",
      "Removing job...\n",
      "2 experiments completed with 10 to go...\n",
      "Initialising model...\n",
      "method: sk\n",
      "resampling: SMOTE\n",
      "Parameters:\n",
      "class_weight (1, 1)\n",
      "regressor NuSVC\n",
      "Benchmarking...\n",
      "Training for label Backdoor ...\n"
     ]
    }
   ],
   "source": [
    "m.run_jobs()"
   ]
  },
  {
   "cell_type": "code",
   "execution_count": null,
   "id": "83661402",
   "metadata": {},
   "outputs": [],
   "source": []
  }
 ],
 "metadata": {
  "kernelspec": {
   "display_name": "Gleeb",
   "language": "python",
   "name": "gleeb"
  },
  "language_info": {
   "codemirror_mode": {
    "name": "ipython",
    "version": 3
   },
   "file_extension": ".py",
   "mimetype": "text/x-python",
   "name": "python",
   "nbconvert_exporter": "python",
   "pygments_lexer": "ipython3",
   "version": "3.12.3"
  }
 },
 "nbformat": 4,
 "nbformat_minor": 5
}
