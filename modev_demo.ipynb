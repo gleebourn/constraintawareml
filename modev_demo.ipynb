{
 "cells": [
  {
   "cell_type": "code",
   "execution_count": 1,
   "id": "680d6ae9",
   "metadata": {
    "scrolled": true
   },
   "outputs": [],
   "source": [
    "from pathlib import Path\n",
    "from os.path import dirname,abspath\n",
    "from sys import path,argv,stdout\n",
    "#path.append(dirname(dirname(abspath(__file__))))\n",
    "from cal.cal import ModelEvaluation\n",
    "from cal.rs import resamplers_list\n",
    "from itertools import product"
   ]
  },
  {
   "cell_type": "code",
   "execution_count": 2,
   "id": "329dacb6",
   "metadata": {},
   "outputs": [],
   "source": [
    "params={'nn':[],#[dict(lr_ad=1e-3,reg=1e-5,lrfpfn=5e-3,bias=0.,times=(128,),#(1,2,4,8,16,32,64,128),\n",
    "                   #start_width=sw,end_width=ew,depth=d,bs=128,act='relu',adap_thresh=adt,\n",
    "                   #init='glorot_normal',eps=1e-8,beta1=.9,beta2=.999,layer_norm=False)\\\n",
    "                       #for sw,ew,d,adt in product([128],[32],[4],[True,False])],\n",
    "        'sk':[dict(regressor=rg,\n",
    "                   **({'max_depth':md} if rg in ['RandomForestClassifier',\n",
    "                                                 'RandomForestRegressor'] else {}),\n",
    "                   **({'class_weight':(1,1)} if rg in ['RandomForestClassifier',\n",
    "                                                       'SVC'] else {}),\n",
    "                   **({'kernel':'poly'} if rg=='SVC' else {}),\n",
    "                   **({'n_jobs':-1} if rg in ['RandomForestRegressor','RandomForestClassifier'] else {}))\\\n",
    "              for md,rg in product([14],['RandomForestRegressor'])]}\n",
    "#'SVC'])]}#'RandomForestRegressor',#'HistGradientBoostingRegressor',\n",
    "                                        #'RandomForestClassifier','NuSVC'])]}\n",
    "directory='jup_res'"
   ]
  },
  {
   "cell_type": "code",
   "execution_count": 3,
   "id": "b25f4179",
   "metadata": {},
   "outputs": [
    {
     "name": "stdout",
     "output_type": "stream",
     "text": [
      "['NearMiss', 'SMOTEENN', 'ADASYN', 'SMOTE', 'SMOTETomek', '']\n"
     ]
    }
   ],
   "source": [
    "print(resamplers_list)"
   ]
  },
  {
   "cell_type": "code",
   "execution_count": null,
   "id": "4fc2278a",
   "metadata": {},
   "outputs": [],
   "source": [
    "m=ModelEvaluation(ds='unsw',lab_cat=True,params=params,fpfn_curve_n_points=1000,logf=stdout,directory=directory)\n"
   ]
  },
  {
   "cell_type": "code",
   "execution_count": null,
   "id": "3a3990c9",
   "metadata": {},
   "outputs": [],
   "source": [
    "m.set_targets()\n"
   ]
  },
  {
   "cell_type": "code",
   "execution_count": null,
   "id": "c855906c",
   "metadata": {},
   "outputs": [],
   "source": [
    "m.define_jobs(resamplers=['','SMOTE'])#,'SMOTETomek','SMOTEENN'])"
   ]
  },
  {
   "cell_type": "code",
   "execution_count": null,
   "id": "26eed3e8",
   "metadata": {
    "scrolled": false
   },
   "outputs": [],
   "source": [
    "res_dir=m.run_jobs()"
   ]
  },
  {
   "cell_type": "code",
   "execution_count": null,
   "id": "c78de01f",
   "metadata": {},
   "outputs": [],
   "source": [
    "hp_trn=m.fpfn_curve_by_target('Generic','trn')\n",
    "hp_tst=m.fpfn_curve_by_target('Generic','tst')"
   ]
  },
  {
   "cell_type": "code",
   "execution_count": null,
   "id": "1b74facf",
   "metadata": {},
   "outputs": [],
   "source": [
    "print(hp_trn)"
   ]
  },
  {
   "cell_type": "code",
   "execution_count": null,
   "id": "3793d571",
   "metadata": {},
   "outputs": [],
   "source": []
  }
 ],
 "metadata": {
  "kernelspec": {
   "display_name": "Gleeb",
   "language": "python",
   "name": "gleeb"
  },
  "language_info": {
   "codemirror_mode": {
    "name": "ipython",
    "version": 3
   },
   "file_extension": ".py",
   "mimetype": "text/x-python",
   "name": "python",
   "nbconvert_exporter": "python",
   "pygments_lexer": "ipython3",
   "version": "3.12.3"
  }
 },
 "nbformat": 4,
 "nbformat_minor": 5
}
