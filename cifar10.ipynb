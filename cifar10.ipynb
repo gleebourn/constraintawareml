{
 "cells": [
  {
   "cell_type": "code",
   "execution_count": 24,
   "id": "4b1e65ca",
   "metadata": {},
   "outputs": [
    {
     "name": "stdout",
     "output_type": "stream",
     "text": [
      "batches.meta  data_batch_2  data_batch_4  readme.html\r\n",
      "data_batch_1  data_batch_3  data_batch_5  test_batch\r\n"
     ]
    }
   ],
   "source": [
    "!ls ~/data/cifar-10-python/cifar-10-batches-py/\n"
   ]
  },
  {
   "cell_type": "code",
   "execution_count": 28,
   "id": "c3f6e6f2",
   "metadata": {},
   "outputs": [
    {
     "name": "stdout",
     "output_type": "stream",
     "text": [
      "Each batch has data shape: (10000, 3072)\n",
      "Note 3072==32*32*3 is the number of bytes for each 3 channel 32 by 32 byte array image\n"
     ]
    }
   ],
   "source": [
    "from pickle import load\n",
    "from numpy import concatenate,array\n",
    "from pathlib import Path\n",
    "labs=[]\n",
    "data=[]\n",
    "for f in [str(Path.home())+'/data/cifar-10-python/cifar-10-batches-py/data_batch_'+str(i) for i in range(1,6)]:\n",
    "  with open(f,'rb') as fd:\n",
    "    raw=load(fd,encoding='bytes')\n",
    "    data.append(raw[b'data'])\n",
    "    labs.append(array(raw[b'labels']))\n",
    "\n",
    "with open(str(Path.home())+'/data/cifar-10-python/cifar-10-batches-py/test_batch','rb') as fd:\n",
    "  raw=load(fd,encoding='bytes')\n",
    "  X_test=raw[b'data']\n",
    "  y_test=array(raw[b'labels'])\n",
    "  \n",
    "\n",
    "print('Each batch has data shape:',raw[b'data'].shape)\n",
    "print('Note 3072==32*32*3 is the number of bytes for each 3 channel 32 by 32 byte array image')\n",
    "X=concatenate(data)\n",
    "y=concatenate(labs)\n"
   ]
  },
  {
   "cell_type": "code",
   "execution_count": 17,
   "id": "e39dbeb6",
   "metadata": {},
   "outputs": [
    {
     "name": "stdout",
     "output_type": "stream",
     "text": [
      "[[ 59  43  50 ... 140  84  72]\n",
      " [154 126 105 ... 139 142 144]\n",
      " [255 253 253 ...  83  83  84]\n",
      " ...\n",
      " [ 28  30  33 ... 100  99  96]\n",
      " [134 131 128 ... 136 137 138]\n",
      " [125 110 102 ...  82  84  86]]\n",
      "[6 9 9 4 1 1 2 7 8 3]\n"
     ]
    }
   ],
   "source": [
    "print(X[:10])\n",
    "print(y[:10])"
   ]
  },
  {
   "cell_type": "code",
   "execution_count": null,
   "id": "45d47779",
   "metadata": {},
   "outputs": [],
   "source": []
  }
 ],
 "metadata": {
  "kernelspec": {
   "display_name": "Gleeb",
   "language": "python",
   "name": "gleeb"
  },
  "language_info": {
   "codemirror_mode": {
    "name": "ipython",
    "version": 3
   },
   "file_extension": ".py",
   "mimetype": "text/x-python",
   "name": "python",
   "nbconvert_exporter": "python",
   "pygments_lexer": "ipython3",
   "version": "3.12.3"
  }
 },
 "nbformat": 4,
 "nbformat_minor": 5
}
