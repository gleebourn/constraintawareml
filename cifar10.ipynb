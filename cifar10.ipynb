{
 "cells": [
  {
   "cell_type": "code",
   "execution_count": 1,
   "id": "4b1e65ca",
   "metadata": {},
   "outputs": [
    {
     "name": "stdout",
     "output_type": "stream",
     "text": [
      "batches.meta  data_batch_2  data_batch_4  readme.html\r\n",
      "data_batch_1  data_batch_3  data_batch_5  test_batch\r\n"
     ]
    }
   ],
   "source": [
    "!ls ~/data/cifar-10-python/cifar-10-batches-py/\n"
   ]
  },
  {
   "cell_type": "code",
   "execution_count": 2,
   "id": "c3f6e6f2",
   "metadata": {},
   "outputs": [
    {
     "name": "stdout",
     "output_type": "stream",
     "text": [
      "Each batch has data shape: (10000, 3072)\n",
      "Note 3072==32*32*3 is the number of bytes for each 3 channel 32 by 32 byte array image\n"
     ]
    }
   ],
   "source": [
    "from pickle import load\n",
    "from numpy import concatenate,array,float32\n",
    "from pathlib import Path\n",
    "labs=[]\n",
    "data=[]\n",
    "for f in [str(Path.home())+'/data/cifar-10-python/cifar-10-batches-py/data_batch_'+str(i) for i in range(1,6)]:\n",
    "  with open(f,'rb') as fd:\n",
    "    raw=load(fd,encoding='bytes')\n",
    "    data.append(raw[b'data'])\n",
    "    labs.append(array(raw[b'labels']))\n",
    "\n",
    "X=concatenate(data)\n",
    "y=(concatenate(labs)==0).astype(float32)\n",
    "    \n",
    "with open(str(Path.home())+'/data/cifar-10-python/cifar-10-batches-py/test_batch','rb') as fd:\n",
    "  raw=load(fd,encoding='bytes')\n",
    "  X_test=raw[b'data']\n",
    "  y_test=(array(raw[b'labels'])==0).astype(float32)\n",
    "  \n",
    "\n",
    "print('Each batch has data shape:',raw[b'data'].shape)\n",
    "print('Note 3072==32*32*3 is the number of bytes for each 3 channel 32 by 32 byte array image')\n",
    "\n"
   ]
  },
  {
   "cell_type": "code",
   "execution_count": 3,
   "id": "ffcc1150",
   "metadata": {},
   "outputs": [
    {
     "name": "stdout",
     "output_type": "stream",
     "text": [
      "[[ 59  43  50 ... 140  84  72]\n",
      " [154 126 105 ... 139 142 144]\n",
      " [255 253 253 ...  83  83  84]\n",
      " ...\n",
      " [ 28  30  33 ... 100  99  96]\n",
      " [134 131 128 ... 136 137 138]\n",
      " [125 110 102 ...  82  84  86]]\n",
      "[0. 0. 0. 0. 0. 0. 0. 0. 0. 0.]\n"
     ]
    }
   ],
   "source": [
    "print(X[:10])\n",
    "print(y[:10])"
   ]
  },
  {
   "cell_type": "code",
   "execution_count": 4,
   "id": "53ecbb4d",
   "metadata": {},
   "outputs": [
    {
     "data": {
      "text/plain": [
       "'from cal.jaxn import bin_optimiser\\nhlp=bin_optimiser(X.shape[1],kappa=.99,beta=2)\\nhlp.bench(X_test,y_test)\\nhlp.run_epochs(X,y,X_test,y_test,batch_size=512,n_epochs=800)\\nhlp.run_epochs(X,y,X_test,y_test,batch_size=256,n_epochs=400)\\nhlp.run_epochs(X,y,X_test,y_test,batch_size=128,n_epochs=200)\\nhlp.run_epochs(X,y,X_test,y_test,batch_size=64,n_epochs=100)\\nhlp.run_epochs(X,y,X_test,y_test,batch_size=32,n_epochs=50)\\nhlp.run_epochs(X,y,X_test,y_test,batch_size=16,n_epochs=25)'"
      ]
     },
     "execution_count": 4,
     "metadata": {},
     "output_type": "execute_result"
    }
   ],
   "source": [
    "'''from cal.jaxn import bin_optimiser\n",
    "hlp=bin_optimiser(X.shape[1],kappa=.99,beta=2)\n",
    "hlp.bench(X_test,y_test)\n",
    "hlp.run_epochs(X,y,X_test,y_test,batch_size=512,n_epochs=800)\n",
    "hlp.run_epochs(X,y,X_test,y_test,batch_size=256,n_epochs=400)\n",
    "hlp.run_epochs(X,y,X_test,y_test,batch_size=128,n_epochs=200)\n",
    "hlp.run_epochs(X,y,X_test,y_test,batch_size=64,n_epochs=100)\n",
    "hlp.run_epochs(X,y,X_test,y_test,batch_size=32,n_epochs=50)\n",
    "hlp.run_epochs(X,y,X_test,y_test,batch_size=16,n_epochs=25)'''"
   ]
  },
  {
   "cell_type": "code",
   "execution_count": 5,
   "id": "ba58328d",
   "metadata": {},
   "outputs": [
    {
     "ename": "ValueError",
     "evalue": "Comparator raised exception while sorting pytree dictionary keys.",
     "output_type": "error",
     "traceback": [
      "\u001b[0;31m---------------------------------------------------------------------------\u001b[0m",
      "\u001b[0;31mTypeError\u001b[0m                                 Traceback (most recent call last)",
      "\u001b[0;31mTypeError\u001b[0m: '<' not supported between instances of 'tuple' and 'str'",
      "\nThe above exception was the direct cause of the following exception:\n",
      "\u001b[0;31mValueError\u001b[0m                                Traceback (most recent call last)",
      "Cell \u001b[0;32mIn[5], line 3\u001b[0m\n\u001b[1;32m      1\u001b[0m \u001b[38;5;28;01mfrom\u001b[39;00m \u001b[38;5;21;01mcal\u001b[39;00m\u001b[38;5;21;01m.\u001b[39;00m\u001b[38;5;21;01mjaxn\u001b[39;00m \u001b[38;5;28;01mimport\u001b[39;00m bin_optimiser,nlp_infer_v,nlp_init_params\n\u001b[1;32m      2\u001b[0m hlp\u001b[38;5;241m=\u001b[39mbin_optimiser(X\u001b[38;5;241m.\u001b[39mshape[\u001b[38;5;241m1\u001b[39m],kappa\u001b[38;5;241m=\u001b[39m\u001b[38;5;241m.99\u001b[39m,beta\u001b[38;5;241m=\u001b[39m\u001b[38;5;241m2\u001b[39m,implementation\u001b[38;5;241m=\u001b[39mnlp_infer_v,init_params\u001b[38;5;241m=\u001b[39mnlp_init_params)\n\u001b[0;32m----> 3\u001b[0m \u001b[43mhlp\u001b[49m\u001b[38;5;241;43m.\u001b[39;49m\u001b[43mbench\u001b[49m\u001b[43m(\u001b[49m\u001b[43mX_test\u001b[49m\u001b[43m,\u001b[49m\u001b[43my_test\u001b[49m\u001b[43m)\u001b[49m\n\u001b[1;32m      4\u001b[0m hlp\u001b[38;5;241m.\u001b[39mrun_epochs(X,y,X_test,y_test,batch_size\u001b[38;5;241m=\u001b[39m\u001b[38;5;241m512\u001b[39m,n_epochs\u001b[38;5;241m=\u001b[39m\u001b[38;5;241m800\u001b[39m)\n\u001b[1;32m      5\u001b[0m hlp\u001b[38;5;241m.\u001b[39mrun_epochs(X,y,X_test,y_test,batch_size\u001b[38;5;241m=\u001b[39m\u001b[38;5;241m256\u001b[39m,n_epochs\u001b[38;5;241m=\u001b[39m\u001b[38;5;241m400\u001b[39m)\n",
      "File \u001b[0;32m~/gleebourn/constraintawareml/cal/jaxn.py:235\u001b[0m, in \u001b[0;36mbin_optimiser.bench\u001b[0;34m(self, X, y)\u001b[0m\n\u001b[1;32m    234\u001b[0m \u001b[38;5;28;01mdef\u001b[39;00m \u001b[38;5;21mbench\u001b[39m(\u001b[38;5;28mself\u001b[39m,X,y):\n\u001b[0;32m--> 235\u001b[0m   y_pred\u001b[38;5;241m=\u001b[39m\u001b[38;5;28;43mself\u001b[39;49m\u001b[38;5;241;43m.\u001b[39;49m\u001b[43minfer\u001b[49m\u001b[43m(\u001b[49m\u001b[43mX\u001b[49m\u001b[43m)\u001b[49m\n\u001b[1;32m    236\u001b[0m   tp\u001b[38;5;241m=\u001b[39m\u001b[38;5;28mself\u001b[39m\u001b[38;5;241m.\u001b[39mb_tp(y,y_pred)\n\u001b[1;32m    237\u001b[0m   fp\u001b[38;5;241m=\u001b[39m\u001b[38;5;28mself\u001b[39m\u001b[38;5;241m.\u001b[39mb_fp(y,y_pred)\n",
      "File \u001b[0;32m~/gleebourn/constraintawareml/cal/jaxn.py:212\u001b[0m, in \u001b[0;36mbin_optimiser.infer\u001b[0;34m(self, x)\u001b[0m\n\u001b[1;32m    210\u001b[0m \u001b[38;5;28;01mdef\u001b[39;00m \u001b[38;5;21minfer\u001b[39m(\u001b[38;5;28mself\u001b[39m,x):\n\u001b[1;32m    211\u001b[0m   \u001b[38;5;28;01mtry\u001b[39;00m:\n\u001b[0;32m--> 212\u001b[0m     \u001b[38;5;28;01mreturn\u001b[39;00m \u001b[38;5;28;43mself\u001b[39;49m\u001b[38;5;241;43m.\u001b[39;49m\u001b[43mimplementation\u001b[49m\u001b[43m(\u001b[49m\u001b[43mx\u001b[49m\u001b[43m,\u001b[49m\u001b[38;5;28;43mself\u001b[39;49m\u001b[38;5;241;43m.\u001b[39;49m\u001b[43mparams\u001b[49m\u001b[43m)\u001b[49m\n\u001b[1;32m    213\u001b[0m   \u001b[38;5;28;01mexcept\u001b[39;00m JaxRuntimeError \u001b[38;5;28;01mas\u001b[39;00m e:\n\u001b[1;32m    214\u001b[0m     \u001b[38;5;28mprint\u001b[39m(\u001b[38;5;124m'\u001b[39m\u001b[38;5;124mcould not do vectorised inference... gonna be slow...\u001b[39m\u001b[38;5;124m'\u001b[39m)\n",
      "File \u001b[0;32m~/gleebourn/lib/python3.12/site-packages/jax/_src/numpy/vectorize.py:341\u001b[0m, in \u001b[0;36mvectorize.<locals>.wrapped\u001b[0;34m(*args, **kwargs)\u001b[0m\n\u001b[1;32m    339\u001b[0m   \u001b[38;5;28;01melse\u001b[39;00m:\n\u001b[1;32m    340\u001b[0m     vectorized_func \u001b[38;5;241m=\u001b[39m api\u001b[38;5;241m.\u001b[39mvmap(vectorized_func, in_axes)\n\u001b[0;32m--> 341\u001b[0m result \u001b[38;5;241m=\u001b[39m \u001b[43mvectorized_func\u001b[49m\u001b[43m(\u001b[49m\u001b[38;5;241;43m*\u001b[39;49m\u001b[43msqueezed_args\u001b[49m\u001b[43m)\u001b[49m\n\u001b[1;32m    343\u001b[0m \u001b[38;5;28;01mif\u001b[39;00m \u001b[38;5;129;01mnot\u001b[39;00m dims_to_expand:\n\u001b[1;32m    344\u001b[0m   \u001b[38;5;28;01mreturn\u001b[39;00m result\n",
      "    \u001b[0;31m[... skipping hidden 3 frame]\u001b[0m\n",
      "File \u001b[0;32m~/gleebourn/lib/python3.12/site-packages/jax/_src/numpy/vectorize.py:140\u001b[0m, in \u001b[0;36m_check_output_dims.<locals>.wrapped\u001b[0;34m(*args)\u001b[0m\n\u001b[1;32m    139\u001b[0m \u001b[38;5;28;01mdef\u001b[39;00m \u001b[38;5;21mwrapped\u001b[39m(\u001b[38;5;241m*\u001b[39margs):\n\u001b[0;32m--> 140\u001b[0m   out \u001b[38;5;241m=\u001b[39m \u001b[43mfunc\u001b[49m\u001b[43m(\u001b[49m\u001b[38;5;241;43m*\u001b[39;49m\u001b[43margs\u001b[49m\u001b[43m)\u001b[49m\n\u001b[1;32m    141\u001b[0m   out_shapes \u001b[38;5;241m=\u001b[39m \u001b[38;5;28mmap\u001b[39m(jnp\u001b[38;5;241m.\u001b[39mshape, out \u001b[38;5;28;01mif\u001b[39;00m \u001b[38;5;28misinstance\u001b[39m(out, \u001b[38;5;28mtuple\u001b[39m) \u001b[38;5;28;01melse\u001b[39;00m [out])\n\u001b[1;32m    143\u001b[0m   \u001b[38;5;28;01mif\u001b[39;00m expected_output_core_dims \u001b[38;5;129;01mis\u001b[39;00m \u001b[38;5;28;01mNone\u001b[39;00m:\n",
      "File \u001b[0;32m~/gleebourn/lib/python3.12/site-packages/jax/_src/numpy/vectorize.py:183\u001b[0m, in \u001b[0;36m_apply_excluded.<locals>.new_func\u001b[0;34m(*args, **kwargs)\u001b[0m\n\u001b[1;32m    181\u001b[0m \u001b[38;5;28;01mfor\u001b[39;00m i, arg \u001b[38;5;129;01min\u001b[39;00m static_args:\n\u001b[1;32m    182\u001b[0m   args\u001b[38;5;241m.\u001b[39minsert(i, arg)\n\u001b[0;32m--> 183\u001b[0m \u001b[38;5;28;01mreturn\u001b[39;00m \u001b[43mfunc\u001b[49m\u001b[43m(\u001b[49m\u001b[38;5;241;43m*\u001b[39;49m\u001b[43margs\u001b[49m\u001b[43m,\u001b[49m\u001b[43m \u001b[49m\u001b[38;5;241;43m*\u001b[39;49m\u001b[38;5;241;43m*\u001b[39;49m\u001b[43mkwargs\u001b[49m\u001b[43m,\u001b[49m\u001b[43m \u001b[49m\u001b[38;5;241;43m*\u001b[39;49m\u001b[38;5;241;43m*\u001b[39;49m\u001b[43mstatic_kwargs\u001b[49m\u001b[43m)\u001b[49m\n",
      "\u001b[0;31mValueError\u001b[0m: Comparator raised exception while sorting pytree dictionary keys."
     ]
    }
   ],
   "source": [
    "from cal.jaxn import bin_optimiser,nlp_infer_v,nlp_init_params\n",
    "hlp=bin_optimiser(X.shape[1],kappa=.99,beta=2,implementation=nlp_infer_v,init_params=nlp_init_params)\n",
    "hlp.bench(X_test,y_test)\n",
    "hlp.run_epochs(X,y,X_test,y_test,batch_size=512,n_epochs=800)\n",
    "hlp.run_epochs(X,y,X_test,y_test,batch_size=256,n_epochs=400)\n",
    "hlp.run_epochs(X,y,X_test,y_test,batch_size=128,n_epochs=200)\n",
    "hlp.run_epochs(X,y,X_test,y_test,batch_size=64,n_epochs=100)\n",
    "hlp.run_epochs(X,y,X_test,y_test,batch_size=32,n_epochs=50)\n",
    "hlp.run_epochs(X,y,X_test,y_test,batch_size=16,n_epochs=25)"
   ]
  },
  {
   "cell_type": "code",
   "execution_count": null,
   "id": "4a7475eb",
   "metadata": {},
   "outputs": [],
   "source": []
  }
 ],
 "metadata": {
  "kernelspec": {
   "display_name": "Gleeb",
   "language": "python",
   "name": "gleeb"
  },
  "language_info": {
   "codemirror_mode": {
    "name": "ipython",
    "version": 3
   },
   "file_extension": ".py",
   "mimetype": "text/x-python",
   "name": "python",
   "nbconvert_exporter": "python",
   "pygments_lexer": "ipython3",
   "version": "3.12.3"
  }
 },
 "nbformat": 4,
 "nbformat_minor": 5
}
