{
 "cells": [
  {
   "cell_type": "code",
   "execution_count": 1,
   "id": "79870a53",
   "metadata": {},
   "outputs": [],
   "source": [
    "from sys import path,argv\n",
    "from pathlib import Path\n",
    "path.append(str(Path('.').absolute()))\n",
    "\n",
    "from pandas import read_csv\n",
    "from jax.numpy import array\n",
    "\n"
   ]
  },
  {
   "cell_type": "code",
   "execution_count": 2,
   "id": "003b49f6",
   "metadata": {},
   "outputs": [
    {
     "name": "stdout",
     "output_type": "stream",
     "text": [
      "X.shape= (175341, 40)\n",
      "y.shape= (175341,)\n",
      "X= [[1.000000e+00 1.214780e-01 6.000000e+00 ... 1.000000e+00 1.000000e+00\n",
      "  0.000000e+00]\n",
      " [2.000000e+00 6.499020e-01 1.400000e+01 ... 1.000000e+00 6.000000e+00\n",
      "  0.000000e+00]\n",
      " [3.000000e+00 1.623129e+00 8.000000e+00 ... 2.000000e+00 6.000000e+00\n",
      "  0.000000e+00]\n",
      " ...\n",
      " [1.753390e+05 9.000000e-06 2.000000e+00 ... 3.000000e+00 1.200000e+01\n",
      "  0.000000e+00]\n",
      " [1.753400e+05 9.000000e-06 2.000000e+00 ... 3.000000e+01 3.000000e+01\n",
      "  0.000000e+00]\n",
      " [1.753410e+05 9.000000e-06 2.000000e+00 ... 3.000000e+01 3.000000e+01\n",
      "  0.000000e+00]]\n",
      "y= [0. 0. 0. ... 1. 1. 1.]\n"
     ]
    }
   ],
   "source": [
    "def get_Xy(filename):\n",
    "  Xy=read_csv(filename).select_dtypes(include='number')\n",
    "  return array(Xy.drop(columns='label'),dtype=float),array(Xy['label'],dtype=float)\n",
    "\n",
    "X,y=get_Xy('~/data/UNSW_NB15_training-set.csv')\n",
    "\n",
    "print('X.shape=',X.shape)\n",
    "print('y.shape=',y.shape)\n",
    "print('X=',X)\n",
    "print('y=',y)\n",
    "\n"
   ]
  },
  {
   "cell_type": "code",
   "execution_count": 3,
   "id": "baf2b01d",
   "metadata": {},
   "outputs": [],
   "source": [
    "X_test,y_test=get_Xy('~/data/UNSW_NB15_testing-set.csv')"
   ]
  },
  {
   "cell_type": "code",
   "execution_count": 4,
   "id": "2dd298ef",
   "metadata": {},
   "outputs": [
    {
     "name": "stdout",
     "output_type": "stream",
     "text": [
      "|bin tp |bin fp |bin fn |bin fp:fn |tgt fp:fn |cts fp |cts fn |bin pr |bin rc |fp wgt|\n",
      "|0.03618|0.05879|0.51442|   0.11428|   1.00000|0.12307|0.37845|0.38100|0.06572|0.00000|\n"
     ]
    }
   ],
   "source": [
    "from cal.jaxn import bin_optimiser\n",
    "hlp=bin_optimiser(X.shape[1],32,kappa=.9)\n",
    "hlp.bench(X_test,y_test)"
   ]
  },
  {
   "cell_type": "code",
   "execution_count": null,
   "id": "ffca5d0d",
   "metadata": {},
   "outputs": [
    {
     "name": "stdout",
     "output_type": "stream",
     "text": [
      "Beginning epoch 1 ...\n",
      "...done!\n",
      "Training performance:\n",
      "|bin tp |bin fp |bin fn |bin fp:fn |tgt fp:fn |cts fp |cts fn |bin pr |bin rc |fp wgt|\n",
      "|0.48808|0.09472|0.19254|   0.49197|   1.00000|0.12452|0.17367|0.83747|0.71711|0.44900|\n",
      "Testing performance:\n",
      "|bin tp |bin fp |bin fn |bin fp:fn |tgt fp:fn |cts fp |cts fn |bin pr |bin rc |fp wgt|\n",
      "|0.40846|0.15908|0.14214|   1.11911|   1.00000|0.19875|0.12866|0.71971|0.74184|0.44900|\n",
      "Beginning epoch 2 ...\n",
      "...done!\n",
      "Training performance:\n",
      "|bin tp |bin fp |bin fn |bin fp:fn |tgt fp:fn |cts fp |cts fn |bin pr |bin rc |fp wgt|\n",
      "|0.50098|0.09228|0.17964|   0.51367|   1.00000|0.11941|0.16616|0.84446|0.73606|0.43811|\n",
      "Testing performance:\n",
      "|bin tp |bin fp |bin fn |bin fp:fn |tgt fp:fn |cts fp |cts fn |bin pr |bin rc |fp wgt|\n",
      "|0.41897|0.16135|0.13163|   1.22580|   1.00000|0.19668|0.12249|0.72197|0.76094|0.43811|\n",
      "Beginning epoch 3 ...\n"
     ]
    }
   ],
   "source": [
    "hlp.run_epochs(X,y,X_test,y_test,batch_size=16,n_epochs=500)"
   ]
  },
  {
   "cell_type": "code",
   "execution_count": null,
   "id": "c7c5678f",
   "metadata": {},
   "outputs": [],
   "source": []
  }
 ],
 "metadata": {
  "kernelspec": {
   "display_name": "Gleeb",
   "language": "python",
   "name": "gleeb"
  },
  "language_info": {
   "codemirror_mode": {
    "name": "ipython",
    "version": 3
   },
   "file_extension": ".py",
   "mimetype": "text/x-python",
   "name": "python",
   "nbconvert_exporter": "python",
   "pygments_lexer": "ipython3",
   "version": "3.12.3"
  }
 },
 "nbformat": 4,
 "nbformat_minor": 5
}
