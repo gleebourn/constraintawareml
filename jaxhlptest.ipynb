{
 "cells": [
  {
   "cell_type": "code",
   "execution_count": 1,
   "id": "79870a53",
   "metadata": {},
   "outputs": [],
   "source": [
    "from sys import path,argv\n",
    "from pathlib import Path\n",
    "path.append(str(Path('.').absolute()))\n",
    "\n",
    "from pandas import read_csv\n",
    "from jax.numpy import array\n",
    "\n"
   ]
  },
  {
   "cell_type": "code",
   "execution_count": 2,
   "id": "003b49f6",
   "metadata": {},
   "outputs": [
    {
     "name": "stdout",
     "output_type": "stream",
     "text": [
      "X.shape= (175341, 40)\n",
      "y.shape= (175341,)\n",
      "X= [[1.000000e+00 1.214780e-01 6.000000e+00 ... 1.000000e+00 1.000000e+00\n",
      "  0.000000e+00]\n",
      " [2.000000e+00 6.499020e-01 1.400000e+01 ... 1.000000e+00 6.000000e+00\n",
      "  0.000000e+00]\n",
      " [3.000000e+00 1.623129e+00 8.000000e+00 ... 2.000000e+00 6.000000e+00\n",
      "  0.000000e+00]\n",
      " ...\n",
      " [1.753390e+05 9.000000e-06 2.000000e+00 ... 3.000000e+00 1.200000e+01\n",
      "  0.000000e+00]\n",
      " [1.753400e+05 9.000000e-06 2.000000e+00 ... 3.000000e+01 3.000000e+01\n",
      "  0.000000e+00]\n",
      " [1.753410e+05 9.000000e-06 2.000000e+00 ... 3.000000e+01 3.000000e+01\n",
      "  0.000000e+00]]\n",
      "y= [0. 0. 0. ... 1. 1. 1.]\n"
     ]
    }
   ],
   "source": [
    "def get_Xy(filename):\n",
    "  Xy=read_csv(filename).select_dtypes(include='number')\n",
    "  return array(Xy.drop(columns='label'),dtype=float),array(Xy['label'],dtype=float)\n",
    "\n",
    "X,y=get_Xy('~/data/UNSW_NB15_training-set.csv')\n",
    "\n",
    "print('X.shape=',X.shape)\n",
    "print('y.shape=',y.shape)\n",
    "print('X=',X)\n",
    "print('y=',y)\n",
    "\n"
   ]
  },
  {
   "cell_type": "code",
   "execution_count": 3,
   "id": "baf2b01d",
   "metadata": {},
   "outputs": [],
   "source": [
    "X_test,y_test=get_Xy('~/data/UNSW_NB15_testing-set.csv')"
   ]
  },
  {
   "cell_type": "code",
   "execution_count": 4,
   "id": "2dd298ef",
   "metadata": {},
   "outputs": [
    {
     "name": "stdout",
     "output_type": "stream",
     "text": [
      "|bin tp |bin fp |bin fn |bin fp:fn |tgt fp:fn |cts fp |cts fn |bin pr |bin rc |fp wgt |\n",
      "|0.18072|0.35056|0.36988|   0.94776|   1.00000|0.32000|0.37800|0.34016|0.32822|0.00000|\n"
     ]
    }
   ],
   "source": [
    "from cal.jaxn import bin_optimiser\n",
    "hlp=bin_optimiser(X.shape[1],64,kappa=.9)\n",
    "hlp.bench(X_test,y_test)"
   ]
  },
  {
   "cell_type": "code",
   "execution_count": null,
   "id": "ffca5d0d",
   "metadata": {},
   "outputs": [
    {
     "name": "stdout",
     "output_type": "stream",
     "text": [
      "Beginning epoch 1 ...\n",
      "Epoch 0.0 % complete... training performance:\n",
      "|bin tp |bin fp |bin fn |bin fp:fn |tgt fp:fn |cts fp |cts fn |bin pr |bin rc |fp wgt |\n",
      "|0.22601|0.25680|0.45462|   0.56486|   1.00000|0.23592|0.46512|0.46811|0.33206|-0.33920|\n",
      "Epoch 9.99269939770031 % complete... training performance:\n",
      "|bin tp |bin fp |bin fn |bin fp:fn |tgt fp:fn |cts fp |cts fn |bin pr |bin rc |fp wgt |\n",
      "|0.66603|0.30100|0.01459|  20.63252|   1.00000|0.29076|0.15512|0.68874|0.97857|1.17181|\n",
      "Epoch 19.98539879540062 % complete... training performance:\n",
      "|bin tp |bin fp |bin fn |bin fp:fn |tgt fp:fn |cts fp |cts fn |bin pr |bin rc |fp wgt |\n",
      "|0.66515|0.30080|0.01547|  19.44047|   1.00000|0.28772|0.16897|0.68860|0.97727|-0.32156|\n",
      "Epoch 29.978098193100934 % complete... training performance:\n",
      "|bin tp |bin fp |bin fn |bin fp:fn |tgt fp:fn |cts fp |cts fn |bin pr |bin rc |fp wgt |\n",
      "|0.66533|0.30081|0.01530|  19.66629|   1.00000|0.28713|0.14001|0.68864|0.97753|1.01746|\n"
     ]
    }
   ],
   "source": [
    "hlp.run_epochs(X,y,X_test,y_test,batch_size=16,n_epochs=500)"
   ]
  },
  {
   "cell_type": "code",
   "execution_count": null,
   "id": "c7c5678f",
   "metadata": {},
   "outputs": [],
   "source": []
  }
 ],
 "metadata": {
  "kernelspec": {
   "display_name": "Gleeb",
   "language": "python",
   "name": "gleeb"
  },
  "language_info": {
   "codemirror_mode": {
    "name": "ipython",
    "version": 3
   },
   "file_extension": ".py",
   "mimetype": "text/x-python",
   "name": "python",
   "nbconvert_exporter": "python",
   "pygments_lexer": "ipython3",
   "version": "3.12.3"
  }
 },
 "nbformat": 4,
 "nbformat_minor": 5
}
